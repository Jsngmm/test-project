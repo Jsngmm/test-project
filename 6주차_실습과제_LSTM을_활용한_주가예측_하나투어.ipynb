{
  "nbformat": 4,
  "nbformat_minor": 0,
  "metadata": {
    "colab": {
      "name": "6주차 실습과제_LSTM을 활용한 주가예측 - 하나투어.ipynb",
      "provenance": [],
      "authorship_tag": "ABX9TyOCV/P1B0EExq2DaSL/oqNL",
      "include_colab_link": true
    },
    "kernelspec": {
      "name": "python3",
      "display_name": "Python 3"
    },
    "language_info": {
      "name": "python"
    }
  },
  "cells": [
    {
      "cell_type": "markdown",
      "metadata": {
        "id": "view-in-github",
        "colab_type": "text"
      },
      "source": [
        "<a href=\"https://colab.research.google.com/github/Jsngmm/test-project/blob/main/6%EC%A3%BC%EC%B0%A8_%EC%8B%A4%EC%8A%B5%EA%B3%BC%EC%A0%9C_LSTM%EC%9D%84_%ED%99%9C%EC%9A%A9%ED%95%9C_%EC%A3%BC%EA%B0%80%EC%98%88%EC%B8%A1_%ED%95%98%EB%82%98%ED%88%AC%EC%96%B4.ipynb\" target=\"_parent\"><img src=\"https://colab.research.google.com/assets/colab-badge.svg\" alt=\"Open In Colab\"/></a>"
      ]
    },
    {
      "cell_type": "code",
      "execution_count": 1,
      "metadata": {
        "id": "a8P3iZKW7PrT"
      },
      "outputs": [],
      "source": [
        "import pandas as pd\n",
        "import numpy as np\n",
        "import matplotlib.pyplot as plt\n",
        "import seaborn as sns\n",
        "import warnings\n",
        "import os\n",
        "\n",
        "%matplotlib inline\n",
        "warnings.filterwarnings('ignore')\n",
        "plt.rcParams['figure.figsize'] = (15, 20)\n",
        "\n",
        "plt.rcParams['font.family'] = 'NanumGothic'"
      ]
    },
    {
      "cell_type": "code",
      "source": [
        "!pip install finance-datareader"
      ],
      "metadata": {
        "colab": {
          "base_uri": "https://localhost:8080/"
        },
        "id": "a6sE7VcK7l0a",
        "outputId": "bdac17d4-3dd4-417d-95fb-750384a4b5bf"
      },
      "execution_count": 2,
      "outputs": [
        {
          "output_type": "stream",
          "name": "stdout",
          "text": [
            "Looking in indexes: https://pypi.org/simple, https://us-python.pkg.dev/colab-wheels/public/simple/\n",
            "Collecting finance-datareader\n",
            "  Downloading finance_datareader-0.9.34-py3-none-any.whl (17 kB)\n",
            "Requirement already satisfied: requests>=2.3.0 in /usr/local/lib/python3.7/dist-packages (from finance-datareader) (2.23.0)\n",
            "Requirement already satisfied: lxml in /usr/local/lib/python3.7/dist-packages (from finance-datareader) (4.2.6)\n",
            "Requirement already satisfied: pandas>=0.19.2 in /usr/local/lib/python3.7/dist-packages (from finance-datareader) (1.3.5)\n",
            "Requirement already satisfied: tqdm in /usr/local/lib/python3.7/dist-packages (from finance-datareader) (4.64.0)\n",
            "Collecting requests-file\n",
            "  Downloading requests_file-1.5.1-py2.py3-none-any.whl (3.7 kB)\n",
            "Requirement already satisfied: python-dateutil>=2.7.3 in /usr/local/lib/python3.7/dist-packages (from pandas>=0.19.2->finance-datareader) (2.8.2)\n",
            "Requirement already satisfied: numpy>=1.17.3 in /usr/local/lib/python3.7/dist-packages (from pandas>=0.19.2->finance-datareader) (1.21.6)\n",
            "Requirement already satisfied: pytz>=2017.3 in /usr/local/lib/python3.7/dist-packages (from pandas>=0.19.2->finance-datareader) (2022.1)\n",
            "Requirement already satisfied: six>=1.5 in /usr/local/lib/python3.7/dist-packages (from python-dateutil>=2.7.3->pandas>=0.19.2->finance-datareader) (1.15.0)\n",
            "Requirement already satisfied: urllib3!=1.25.0,!=1.25.1,<1.26,>=1.21.1 in /usr/local/lib/python3.7/dist-packages (from requests>=2.3.0->finance-datareader) (1.24.3)\n",
            "Requirement already satisfied: chardet<4,>=3.0.2 in /usr/local/lib/python3.7/dist-packages (from requests>=2.3.0->finance-datareader) (3.0.4)\n",
            "Requirement already satisfied: certifi>=2017.4.17 in /usr/local/lib/python3.7/dist-packages (from requests>=2.3.0->finance-datareader) (2022.6.15)\n",
            "Requirement already satisfied: idna<3,>=2.5 in /usr/local/lib/python3.7/dist-packages (from requests>=2.3.0->finance-datareader) (2.10)\n",
            "Installing collected packages: requests-file, finance-datareader\n",
            "Successfully installed finance-datareader-0.9.34 requests-file-1.5.1\n"
          ]
        }
      ]
    },
    {
      "cell_type": "code",
      "source": [
        "import FinanceDataReader as fdr"
      ],
      "metadata": {
        "id": "bjBz-HCB7pcE"
      },
      "execution_count": 4,
      "outputs": []
    },
    {
      "cell_type": "code",
      "source": [
        "hanatour = fdr.DataReader('039130')"
      ],
      "metadata": {
        "id": "uWiKgkun7phk"
      },
      "execution_count": 7,
      "outputs": []
    },
    {
      "cell_type": "code",
      "source": [
        "hanatour.tail()"
      ],
      "metadata": {
        "colab": {
          "base_uri": "https://localhost:8080/",
          "height": 238
        },
        "id": "5cpy1zAS-aOf",
        "outputId": "15e5b79e-89c9-4985-fdef-7be5abd7ecf6"
      },
      "execution_count": 8,
      "outputs": [
        {
          "output_type": "execute_result",
          "data": {
            "text/plain": [
              "             Open   High    Low  Close  Volume    Change\n",
              "Date                                                    \n",
              "2022-07-04  53000  53800  51200  52100   87918 -0.016981\n",
              "2022-07-05  52700  54300  52300  53300   79046  0.023033\n",
              "2022-07-06  53000  54100  52000  52600   72737 -0.013133\n",
              "2022-07-07  52800  53500  52200  52800   57262  0.003802\n",
              "2022-07-08  51700  55200  51700  53000  291467  0.003788"
            ],
            "text/html": [
              "\n",
              "  <div id=\"df-94618bba-1623-4431-aeb3-ddf9949cd18c\">\n",
              "    <div class=\"colab-df-container\">\n",
              "      <div>\n",
              "<style scoped>\n",
              "    .dataframe tbody tr th:only-of-type {\n",
              "        vertical-align: middle;\n",
              "    }\n",
              "\n",
              "    .dataframe tbody tr th {\n",
              "        vertical-align: top;\n",
              "    }\n",
              "\n",
              "    .dataframe thead th {\n",
              "        text-align: right;\n",
              "    }\n",
              "</style>\n",
              "<table border=\"1\" class=\"dataframe\">\n",
              "  <thead>\n",
              "    <tr style=\"text-align: right;\">\n",
              "      <th></th>\n",
              "      <th>Open</th>\n",
              "      <th>High</th>\n",
              "      <th>Low</th>\n",
              "      <th>Close</th>\n",
              "      <th>Volume</th>\n",
              "      <th>Change</th>\n",
              "    </tr>\n",
              "    <tr>\n",
              "      <th>Date</th>\n",
              "      <th></th>\n",
              "      <th></th>\n",
              "      <th></th>\n",
              "      <th></th>\n",
              "      <th></th>\n",
              "      <th></th>\n",
              "    </tr>\n",
              "  </thead>\n",
              "  <tbody>\n",
              "    <tr>\n",
              "      <th>2022-07-04</th>\n",
              "      <td>53000</td>\n",
              "      <td>53800</td>\n",
              "      <td>51200</td>\n",
              "      <td>52100</td>\n",
              "      <td>87918</td>\n",
              "      <td>-0.016981</td>\n",
              "    </tr>\n",
              "    <tr>\n",
              "      <th>2022-07-05</th>\n",
              "      <td>52700</td>\n",
              "      <td>54300</td>\n",
              "      <td>52300</td>\n",
              "      <td>53300</td>\n",
              "      <td>79046</td>\n",
              "      <td>0.023033</td>\n",
              "    </tr>\n",
              "    <tr>\n",
              "      <th>2022-07-06</th>\n",
              "      <td>53000</td>\n",
              "      <td>54100</td>\n",
              "      <td>52000</td>\n",
              "      <td>52600</td>\n",
              "      <td>72737</td>\n",
              "      <td>-0.013133</td>\n",
              "    </tr>\n",
              "    <tr>\n",
              "      <th>2022-07-07</th>\n",
              "      <td>52800</td>\n",
              "      <td>53500</td>\n",
              "      <td>52200</td>\n",
              "      <td>52800</td>\n",
              "      <td>57262</td>\n",
              "      <td>0.003802</td>\n",
              "    </tr>\n",
              "    <tr>\n",
              "      <th>2022-07-08</th>\n",
              "      <td>51700</td>\n",
              "      <td>55200</td>\n",
              "      <td>51700</td>\n",
              "      <td>53000</td>\n",
              "      <td>291467</td>\n",
              "      <td>0.003788</td>\n",
              "    </tr>\n",
              "  </tbody>\n",
              "</table>\n",
              "</div>\n",
              "      <button class=\"colab-df-convert\" onclick=\"convertToInteractive('df-94618bba-1623-4431-aeb3-ddf9949cd18c')\"\n",
              "              title=\"Convert this dataframe to an interactive table.\"\n",
              "              style=\"display:none;\">\n",
              "        \n",
              "  <svg xmlns=\"http://www.w3.org/2000/svg\" height=\"24px\"viewBox=\"0 0 24 24\"\n",
              "       width=\"24px\">\n",
              "    <path d=\"M0 0h24v24H0V0z\" fill=\"none\"/>\n",
              "    <path d=\"M18.56 5.44l.94 2.06.94-2.06 2.06-.94-2.06-.94-.94-2.06-.94 2.06-2.06.94zm-11 1L8.5 8.5l.94-2.06 2.06-.94-2.06-.94L8.5 2.5l-.94 2.06-2.06.94zm10 10l.94 2.06.94-2.06 2.06-.94-2.06-.94-.94-2.06-.94 2.06-2.06.94z\"/><path d=\"M17.41 7.96l-1.37-1.37c-.4-.4-.92-.59-1.43-.59-.52 0-1.04.2-1.43.59L10.3 9.45l-7.72 7.72c-.78.78-.78 2.05 0 2.83L4 21.41c.39.39.9.59 1.41.59.51 0 1.02-.2 1.41-.59l7.78-7.78 2.81-2.81c.8-.78.8-2.07 0-2.86zM5.41 20L4 18.59l7.72-7.72 1.47 1.35L5.41 20z\"/>\n",
              "  </svg>\n",
              "      </button>\n",
              "      \n",
              "  <style>\n",
              "    .colab-df-container {\n",
              "      display:flex;\n",
              "      flex-wrap:wrap;\n",
              "      gap: 12px;\n",
              "    }\n",
              "\n",
              "    .colab-df-convert {\n",
              "      background-color: #E8F0FE;\n",
              "      border: none;\n",
              "      border-radius: 50%;\n",
              "      cursor: pointer;\n",
              "      display: none;\n",
              "      fill: #1967D2;\n",
              "      height: 32px;\n",
              "      padding: 0 0 0 0;\n",
              "      width: 32px;\n",
              "    }\n",
              "\n",
              "    .colab-df-convert:hover {\n",
              "      background-color: #E2EBFA;\n",
              "      box-shadow: 0px 1px 2px rgba(60, 64, 67, 0.3), 0px 1px 3px 1px rgba(60, 64, 67, 0.15);\n",
              "      fill: #174EA6;\n",
              "    }\n",
              "\n",
              "    [theme=dark] .colab-df-convert {\n",
              "      background-color: #3B4455;\n",
              "      fill: #D2E3FC;\n",
              "    }\n",
              "\n",
              "    [theme=dark] .colab-df-convert:hover {\n",
              "      background-color: #434B5C;\n",
              "      box-shadow: 0px 1px 3px 1px rgba(0, 0, 0, 0.15);\n",
              "      filter: drop-shadow(0px 1px 2px rgba(0, 0, 0, 0.3));\n",
              "      fill: #FFFFFF;\n",
              "    }\n",
              "  </style>\n",
              "\n",
              "      <script>\n",
              "        const buttonEl =\n",
              "          document.querySelector('#df-94618bba-1623-4431-aeb3-ddf9949cd18c button.colab-df-convert');\n",
              "        buttonEl.style.display =\n",
              "          google.colab.kernel.accessAllowed ? 'block' : 'none';\n",
              "\n",
              "        async function convertToInteractive(key) {\n",
              "          const element = document.querySelector('#df-94618bba-1623-4431-aeb3-ddf9949cd18c');\n",
              "          const dataTable =\n",
              "            await google.colab.kernel.invokeFunction('convertToInteractive',\n",
              "                                                     [key], {});\n",
              "          if (!dataTable) return;\n",
              "\n",
              "          const docLinkHtml = 'Like what you see? Visit the ' +\n",
              "            '<a target=\"_blank\" href=https://colab.research.google.com/notebooks/data_table.ipynb>data table notebook</a>'\n",
              "            + ' to learn more about interactive tables.';\n",
              "          element.innerHTML = '';\n",
              "          dataTable['output_type'] = 'display_data';\n",
              "          await google.colab.output.renderOutput(dataTable, element);\n",
              "          const docLink = document.createElement('div');\n",
              "          docLink.innerHTML = docLinkHtml;\n",
              "          element.appendChild(docLink);\n",
              "        }\n",
              "      </script>\n",
              "    </div>\n",
              "  </div>\n",
              "  "
            ]
          },
          "metadata": {},
          "execution_count": 8
        }
      ]
    },
    {
      "cell_type": "code",
      "source": [
        "STOCK_CODE = '039130'"
      ],
      "metadata": {
        "id": "nhI6-r4s_LVv"
      },
      "execution_count": 12,
      "outputs": []
    },
    {
      "cell_type": "code",
      "source": [
        "stock = fdr.DataReader(STOCK_CODE)"
      ],
      "metadata": {
        "id": "1vTTtarU_RJs"
      },
      "execution_count": 13,
      "outputs": []
    },
    {
      "cell_type": "code",
      "source": [
        "stock.head()"
      ],
      "metadata": {
        "colab": {
          "base_uri": "https://localhost:8080/",
          "height": 238
        },
        "id": "--BGB9KZ_Tgl",
        "outputId": "a053fc81-9a2a-4511-e1c1-cc83baf83de6"
      },
      "execution_count": 14,
      "outputs": [
        {
          "output_type": "execute_result",
          "data": {
            "text/plain": [
              "            Open  High   Low  Close   Volume    Change\n",
              "Date                                                  \n",
              "2000-11-28  2514  2514  2514   2514    26239       NaN\n",
              "2000-11-29  2814  2814  2814   2814     4119  0.119332\n",
              "2000-11-30  3149  3149  2739   2999  5021922  0.065743\n",
              "2000-12-01  2642  2783  2642   2642  2119037 -0.119040\n",
              "2000-12-04  2625  2752  2329   2329  1494315 -0.118471"
            ],
            "text/html": [
              "\n",
              "  <div id=\"df-e237b86e-6616-4134-ab42-e54dc2700999\">\n",
              "    <div class=\"colab-df-container\">\n",
              "      <div>\n",
              "<style scoped>\n",
              "    .dataframe tbody tr th:only-of-type {\n",
              "        vertical-align: middle;\n",
              "    }\n",
              "\n",
              "    .dataframe tbody tr th {\n",
              "        vertical-align: top;\n",
              "    }\n",
              "\n",
              "    .dataframe thead th {\n",
              "        text-align: right;\n",
              "    }\n",
              "</style>\n",
              "<table border=\"1\" class=\"dataframe\">\n",
              "  <thead>\n",
              "    <tr style=\"text-align: right;\">\n",
              "      <th></th>\n",
              "      <th>Open</th>\n",
              "      <th>High</th>\n",
              "      <th>Low</th>\n",
              "      <th>Close</th>\n",
              "      <th>Volume</th>\n",
              "      <th>Change</th>\n",
              "    </tr>\n",
              "    <tr>\n",
              "      <th>Date</th>\n",
              "      <th></th>\n",
              "      <th></th>\n",
              "      <th></th>\n",
              "      <th></th>\n",
              "      <th></th>\n",
              "      <th></th>\n",
              "    </tr>\n",
              "  </thead>\n",
              "  <tbody>\n",
              "    <tr>\n",
              "      <th>2000-11-28</th>\n",
              "      <td>2514</td>\n",
              "      <td>2514</td>\n",
              "      <td>2514</td>\n",
              "      <td>2514</td>\n",
              "      <td>26239</td>\n",
              "      <td>NaN</td>\n",
              "    </tr>\n",
              "    <tr>\n",
              "      <th>2000-11-29</th>\n",
              "      <td>2814</td>\n",
              "      <td>2814</td>\n",
              "      <td>2814</td>\n",
              "      <td>2814</td>\n",
              "      <td>4119</td>\n",
              "      <td>0.119332</td>\n",
              "    </tr>\n",
              "    <tr>\n",
              "      <th>2000-11-30</th>\n",
              "      <td>3149</td>\n",
              "      <td>3149</td>\n",
              "      <td>2739</td>\n",
              "      <td>2999</td>\n",
              "      <td>5021922</td>\n",
              "      <td>0.065743</td>\n",
              "    </tr>\n",
              "    <tr>\n",
              "      <th>2000-12-01</th>\n",
              "      <td>2642</td>\n",
              "      <td>2783</td>\n",
              "      <td>2642</td>\n",
              "      <td>2642</td>\n",
              "      <td>2119037</td>\n",
              "      <td>-0.119040</td>\n",
              "    </tr>\n",
              "    <tr>\n",
              "      <th>2000-12-04</th>\n",
              "      <td>2625</td>\n",
              "      <td>2752</td>\n",
              "      <td>2329</td>\n",
              "      <td>2329</td>\n",
              "      <td>1494315</td>\n",
              "      <td>-0.118471</td>\n",
              "    </tr>\n",
              "  </tbody>\n",
              "</table>\n",
              "</div>\n",
              "      <button class=\"colab-df-convert\" onclick=\"convertToInteractive('df-e237b86e-6616-4134-ab42-e54dc2700999')\"\n",
              "              title=\"Convert this dataframe to an interactive table.\"\n",
              "              style=\"display:none;\">\n",
              "        \n",
              "  <svg xmlns=\"http://www.w3.org/2000/svg\" height=\"24px\"viewBox=\"0 0 24 24\"\n",
              "       width=\"24px\">\n",
              "    <path d=\"M0 0h24v24H0V0z\" fill=\"none\"/>\n",
              "    <path d=\"M18.56 5.44l.94 2.06.94-2.06 2.06-.94-2.06-.94-.94-2.06-.94 2.06-2.06.94zm-11 1L8.5 8.5l.94-2.06 2.06-.94-2.06-.94L8.5 2.5l-.94 2.06-2.06.94zm10 10l.94 2.06.94-2.06 2.06-.94-2.06-.94-.94-2.06-.94 2.06-2.06.94z\"/><path d=\"M17.41 7.96l-1.37-1.37c-.4-.4-.92-.59-1.43-.59-.52 0-1.04.2-1.43.59L10.3 9.45l-7.72 7.72c-.78.78-.78 2.05 0 2.83L4 21.41c.39.39.9.59 1.41.59.51 0 1.02-.2 1.41-.59l7.78-7.78 2.81-2.81c.8-.78.8-2.07 0-2.86zM5.41 20L4 18.59l7.72-7.72 1.47 1.35L5.41 20z\"/>\n",
              "  </svg>\n",
              "      </button>\n",
              "      \n",
              "  <style>\n",
              "    .colab-df-container {\n",
              "      display:flex;\n",
              "      flex-wrap:wrap;\n",
              "      gap: 12px;\n",
              "    }\n",
              "\n",
              "    .colab-df-convert {\n",
              "      background-color: #E8F0FE;\n",
              "      border: none;\n",
              "      border-radius: 50%;\n",
              "      cursor: pointer;\n",
              "      display: none;\n",
              "      fill: #1967D2;\n",
              "      height: 32px;\n",
              "      padding: 0 0 0 0;\n",
              "      width: 32px;\n",
              "    }\n",
              "\n",
              "    .colab-df-convert:hover {\n",
              "      background-color: #E2EBFA;\n",
              "      box-shadow: 0px 1px 2px rgba(60, 64, 67, 0.3), 0px 1px 3px 1px rgba(60, 64, 67, 0.15);\n",
              "      fill: #174EA6;\n",
              "    }\n",
              "\n",
              "    [theme=dark] .colab-df-convert {\n",
              "      background-color: #3B4455;\n",
              "      fill: #D2E3FC;\n",
              "    }\n",
              "\n",
              "    [theme=dark] .colab-df-convert:hover {\n",
              "      background-color: #434B5C;\n",
              "      box-shadow: 0px 1px 3px 1px rgba(0, 0, 0, 0.15);\n",
              "      filter: drop-shadow(0px 1px 2px rgba(0, 0, 0, 0.3));\n",
              "      fill: #FFFFFF;\n",
              "    }\n",
              "  </style>\n",
              "\n",
              "      <script>\n",
              "        const buttonEl =\n",
              "          document.querySelector('#df-e237b86e-6616-4134-ab42-e54dc2700999 button.colab-df-convert');\n",
              "        buttonEl.style.display =\n",
              "          google.colab.kernel.accessAllowed ? 'block' : 'none';\n",
              "\n",
              "        async function convertToInteractive(key) {\n",
              "          const element = document.querySelector('#df-e237b86e-6616-4134-ab42-e54dc2700999');\n",
              "          const dataTable =\n",
              "            await google.colab.kernel.invokeFunction('convertToInteractive',\n",
              "                                                     [key], {});\n",
              "          if (!dataTable) return;\n",
              "\n",
              "          const docLinkHtml = 'Like what you see? Visit the ' +\n",
              "            '<a target=\"_blank\" href=https://colab.research.google.com/notebooks/data_table.ipynb>data table notebook</a>'\n",
              "            + ' to learn more about interactive tables.';\n",
              "          element.innerHTML = '';\n",
              "          dataTable['output_type'] = 'display_data';\n",
              "          await google.colab.output.renderOutput(dataTable, element);\n",
              "          const docLink = document.createElement('div');\n",
              "          docLink.innerHTML = docLinkHtml;\n",
              "          element.appendChild(docLink);\n",
              "        }\n",
              "      </script>\n",
              "    </div>\n",
              "  </div>\n",
              "  "
            ]
          },
          "metadata": {},
          "execution_count": 14
        }
      ]
    },
    {
      "cell_type": "code",
      "source": [
        "stock.tail()"
      ],
      "metadata": {
        "colab": {
          "base_uri": "https://localhost:8080/",
          "height": 238
        },
        "id": "t9kYG3eA_aCH",
        "outputId": "98e5041c-021c-4e1e-abb7-16e5ea791d0a"
      },
      "execution_count": 15,
      "outputs": [
        {
          "output_type": "execute_result",
          "data": {
            "text/plain": [
              "             Open   High    Low  Close  Volume    Change\n",
              "Date                                                    \n",
              "2022-07-04  53000  53800  51200  52100   87918 -0.016981\n",
              "2022-07-05  52700  54300  52300  53300   79046  0.023033\n",
              "2022-07-06  53000  54100  52000  52600   72737 -0.013133\n",
              "2022-07-07  52800  53500  52200  52800   57262  0.003802\n",
              "2022-07-08  51700  55200  51700  53000  291467  0.003788"
            ],
            "text/html": [
              "\n",
              "  <div id=\"df-7c06a5e0-0c3c-4570-9afc-ce9b9c77c758\">\n",
              "    <div class=\"colab-df-container\">\n",
              "      <div>\n",
              "<style scoped>\n",
              "    .dataframe tbody tr th:only-of-type {\n",
              "        vertical-align: middle;\n",
              "    }\n",
              "\n",
              "    .dataframe tbody tr th {\n",
              "        vertical-align: top;\n",
              "    }\n",
              "\n",
              "    .dataframe thead th {\n",
              "        text-align: right;\n",
              "    }\n",
              "</style>\n",
              "<table border=\"1\" class=\"dataframe\">\n",
              "  <thead>\n",
              "    <tr style=\"text-align: right;\">\n",
              "      <th></th>\n",
              "      <th>Open</th>\n",
              "      <th>High</th>\n",
              "      <th>Low</th>\n",
              "      <th>Close</th>\n",
              "      <th>Volume</th>\n",
              "      <th>Change</th>\n",
              "    </tr>\n",
              "    <tr>\n",
              "      <th>Date</th>\n",
              "      <th></th>\n",
              "      <th></th>\n",
              "      <th></th>\n",
              "      <th></th>\n",
              "      <th></th>\n",
              "      <th></th>\n",
              "    </tr>\n",
              "  </thead>\n",
              "  <tbody>\n",
              "    <tr>\n",
              "      <th>2022-07-04</th>\n",
              "      <td>53000</td>\n",
              "      <td>53800</td>\n",
              "      <td>51200</td>\n",
              "      <td>52100</td>\n",
              "      <td>87918</td>\n",
              "      <td>-0.016981</td>\n",
              "    </tr>\n",
              "    <tr>\n",
              "      <th>2022-07-05</th>\n",
              "      <td>52700</td>\n",
              "      <td>54300</td>\n",
              "      <td>52300</td>\n",
              "      <td>53300</td>\n",
              "      <td>79046</td>\n",
              "      <td>0.023033</td>\n",
              "    </tr>\n",
              "    <tr>\n",
              "      <th>2022-07-06</th>\n",
              "      <td>53000</td>\n",
              "      <td>54100</td>\n",
              "      <td>52000</td>\n",
              "      <td>52600</td>\n",
              "      <td>72737</td>\n",
              "      <td>-0.013133</td>\n",
              "    </tr>\n",
              "    <tr>\n",
              "      <th>2022-07-07</th>\n",
              "      <td>52800</td>\n",
              "      <td>53500</td>\n",
              "      <td>52200</td>\n",
              "      <td>52800</td>\n",
              "      <td>57262</td>\n",
              "      <td>0.003802</td>\n",
              "    </tr>\n",
              "    <tr>\n",
              "      <th>2022-07-08</th>\n",
              "      <td>51700</td>\n",
              "      <td>55200</td>\n",
              "      <td>51700</td>\n",
              "      <td>53000</td>\n",
              "      <td>291467</td>\n",
              "      <td>0.003788</td>\n",
              "    </tr>\n",
              "  </tbody>\n",
              "</table>\n",
              "</div>\n",
              "      <button class=\"colab-df-convert\" onclick=\"convertToInteractive('df-7c06a5e0-0c3c-4570-9afc-ce9b9c77c758')\"\n",
              "              title=\"Convert this dataframe to an interactive table.\"\n",
              "              style=\"display:none;\">\n",
              "        \n",
              "  <svg xmlns=\"http://www.w3.org/2000/svg\" height=\"24px\"viewBox=\"0 0 24 24\"\n",
              "       width=\"24px\">\n",
              "    <path d=\"M0 0h24v24H0V0z\" fill=\"none\"/>\n",
              "    <path d=\"M18.56 5.44l.94 2.06.94-2.06 2.06-.94-2.06-.94-.94-2.06-.94 2.06-2.06.94zm-11 1L8.5 8.5l.94-2.06 2.06-.94-2.06-.94L8.5 2.5l-.94 2.06-2.06.94zm10 10l.94 2.06.94-2.06 2.06-.94-2.06-.94-.94-2.06-.94 2.06-2.06.94z\"/><path d=\"M17.41 7.96l-1.37-1.37c-.4-.4-.92-.59-1.43-.59-.52 0-1.04.2-1.43.59L10.3 9.45l-7.72 7.72c-.78.78-.78 2.05 0 2.83L4 21.41c.39.39.9.59 1.41.59.51 0 1.02-.2 1.41-.59l7.78-7.78 2.81-2.81c.8-.78.8-2.07 0-2.86zM5.41 20L4 18.59l7.72-7.72 1.47 1.35L5.41 20z\"/>\n",
              "  </svg>\n",
              "      </button>\n",
              "      \n",
              "  <style>\n",
              "    .colab-df-container {\n",
              "      display:flex;\n",
              "      flex-wrap:wrap;\n",
              "      gap: 12px;\n",
              "    }\n",
              "\n",
              "    .colab-df-convert {\n",
              "      background-color: #E8F0FE;\n",
              "      border: none;\n",
              "      border-radius: 50%;\n",
              "      cursor: pointer;\n",
              "      display: none;\n",
              "      fill: #1967D2;\n",
              "      height: 32px;\n",
              "      padding: 0 0 0 0;\n",
              "      width: 32px;\n",
              "    }\n",
              "\n",
              "    .colab-df-convert:hover {\n",
              "      background-color: #E2EBFA;\n",
              "      box-shadow: 0px 1px 2px rgba(60, 64, 67, 0.3), 0px 1px 3px 1px rgba(60, 64, 67, 0.15);\n",
              "      fill: #174EA6;\n",
              "    }\n",
              "\n",
              "    [theme=dark] .colab-df-convert {\n",
              "      background-color: #3B4455;\n",
              "      fill: #D2E3FC;\n",
              "    }\n",
              "\n",
              "    [theme=dark] .colab-df-convert:hover {\n",
              "      background-color: #434B5C;\n",
              "      box-shadow: 0px 1px 3px 1px rgba(0, 0, 0, 0.15);\n",
              "      filter: drop-shadow(0px 1px 2px rgba(0, 0, 0, 0.3));\n",
              "      fill: #FFFFFF;\n",
              "    }\n",
              "  </style>\n",
              "\n",
              "      <script>\n",
              "        const buttonEl =\n",
              "          document.querySelector('#df-7c06a5e0-0c3c-4570-9afc-ce9b9c77c758 button.colab-df-convert');\n",
              "        buttonEl.style.display =\n",
              "          google.colab.kernel.accessAllowed ? 'block' : 'none';\n",
              "\n",
              "        async function convertToInteractive(key) {\n",
              "          const element = document.querySelector('#df-7c06a5e0-0c3c-4570-9afc-ce9b9c77c758');\n",
              "          const dataTable =\n",
              "            await google.colab.kernel.invokeFunction('convertToInteractive',\n",
              "                                                     [key], {});\n",
              "          if (!dataTable) return;\n",
              "\n",
              "          const docLinkHtml = 'Like what you see? Visit the ' +\n",
              "            '<a target=\"_blank\" href=https://colab.research.google.com/notebooks/data_table.ipynb>data table notebook</a>'\n",
              "            + ' to learn more about interactive tables.';\n",
              "          element.innerHTML = '';\n",
              "          dataTable['output_type'] = 'display_data';\n",
              "          await google.colab.output.renderOutput(dataTable, element);\n",
              "          const docLink = document.createElement('div');\n",
              "          docLink.innerHTML = docLinkHtml;\n",
              "          element.appendChild(docLink);\n",
              "        }\n",
              "      </script>\n",
              "    </div>\n",
              "  </div>\n",
              "  "
            ]
          },
          "metadata": {},
          "execution_count": 15
        }
      ]
    },
    {
      "cell_type": "code",
      "source": [
        "stock.index"
      ],
      "metadata": {
        "colab": {
          "base_uri": "https://localhost:8080/"
        },
        "id": "NQSd5Je8_cYE",
        "outputId": "f27dd80d-ead0-4c3c-815f-2362eaf2330c"
      },
      "execution_count": 16,
      "outputs": [
        {
          "output_type": "execute_result",
          "data": {
            "text/plain": [
              "DatetimeIndex(['2000-11-28', '2000-11-29', '2000-11-30', '2000-12-01',\n",
              "               '2000-12-04', '2000-12-05', '2000-12-06', '2000-12-07',\n",
              "               '2000-12-08', '2000-12-11',\n",
              "               ...\n",
              "               '2022-06-27', '2022-06-28', '2022-06-29', '2022-06-30',\n",
              "               '2022-07-01', '2022-07-04', '2022-07-05', '2022-07-06',\n",
              "               '2022-07-07', '2022-07-08'],\n",
              "              dtype='datetime64[ns]', name='Date', length=5338, freq=None)"
            ]
          },
          "metadata": {},
          "execution_count": 16
        }
      ]
    },
    {
      "cell_type": "code",
      "source": [
        "stock['Year'] = stock.index.year\n",
        "stock['Month'] = stock.index.month\n",
        "stock['Day'] = stock.index.day"
      ],
      "metadata": {
        "id": "3-JDXmz8_tbM"
      },
      "execution_count": 17,
      "outputs": []
    },
    {
      "cell_type": "code",
      "source": [
        "stock.head()"
      ],
      "metadata": {
        "colab": {
          "base_uri": "https://localhost:8080/",
          "height": 238
        },
        "id": "o6_1LrSd_xu-",
        "outputId": "10acdab0-9f81-434b-dd4c-fca05068fc2f"
      },
      "execution_count": 18,
      "outputs": [
        {
          "output_type": "execute_result",
          "data": {
            "text/plain": [
              "            Open  High   Low  Close   Volume    Change  Year  Month  Day\n",
              "Date                                                                    \n",
              "2000-11-28  2514  2514  2514   2514    26239       NaN  2000     11   28\n",
              "2000-11-29  2814  2814  2814   2814     4119  0.119332  2000     11   29\n",
              "2000-11-30  3149  3149  2739   2999  5021922  0.065743  2000     11   30\n",
              "2000-12-01  2642  2783  2642   2642  2119037 -0.119040  2000     12    1\n",
              "2000-12-04  2625  2752  2329   2329  1494315 -0.118471  2000     12    4"
            ],
            "text/html": [
              "\n",
              "  <div id=\"df-2ac156c1-3552-4e30-a6da-64a28d4e9765\">\n",
              "    <div class=\"colab-df-container\">\n",
              "      <div>\n",
              "<style scoped>\n",
              "    .dataframe tbody tr th:only-of-type {\n",
              "        vertical-align: middle;\n",
              "    }\n",
              "\n",
              "    .dataframe tbody tr th {\n",
              "        vertical-align: top;\n",
              "    }\n",
              "\n",
              "    .dataframe thead th {\n",
              "        text-align: right;\n",
              "    }\n",
              "</style>\n",
              "<table border=\"1\" class=\"dataframe\">\n",
              "  <thead>\n",
              "    <tr style=\"text-align: right;\">\n",
              "      <th></th>\n",
              "      <th>Open</th>\n",
              "      <th>High</th>\n",
              "      <th>Low</th>\n",
              "      <th>Close</th>\n",
              "      <th>Volume</th>\n",
              "      <th>Change</th>\n",
              "      <th>Year</th>\n",
              "      <th>Month</th>\n",
              "      <th>Day</th>\n",
              "    </tr>\n",
              "    <tr>\n",
              "      <th>Date</th>\n",
              "      <th></th>\n",
              "      <th></th>\n",
              "      <th></th>\n",
              "      <th></th>\n",
              "      <th></th>\n",
              "      <th></th>\n",
              "      <th></th>\n",
              "      <th></th>\n",
              "      <th></th>\n",
              "    </tr>\n",
              "  </thead>\n",
              "  <tbody>\n",
              "    <tr>\n",
              "      <th>2000-11-28</th>\n",
              "      <td>2514</td>\n",
              "      <td>2514</td>\n",
              "      <td>2514</td>\n",
              "      <td>2514</td>\n",
              "      <td>26239</td>\n",
              "      <td>NaN</td>\n",
              "      <td>2000</td>\n",
              "      <td>11</td>\n",
              "      <td>28</td>\n",
              "    </tr>\n",
              "    <tr>\n",
              "      <th>2000-11-29</th>\n",
              "      <td>2814</td>\n",
              "      <td>2814</td>\n",
              "      <td>2814</td>\n",
              "      <td>2814</td>\n",
              "      <td>4119</td>\n",
              "      <td>0.119332</td>\n",
              "      <td>2000</td>\n",
              "      <td>11</td>\n",
              "      <td>29</td>\n",
              "    </tr>\n",
              "    <tr>\n",
              "      <th>2000-11-30</th>\n",
              "      <td>3149</td>\n",
              "      <td>3149</td>\n",
              "      <td>2739</td>\n",
              "      <td>2999</td>\n",
              "      <td>5021922</td>\n",
              "      <td>0.065743</td>\n",
              "      <td>2000</td>\n",
              "      <td>11</td>\n",
              "      <td>30</td>\n",
              "    </tr>\n",
              "    <tr>\n",
              "      <th>2000-12-01</th>\n",
              "      <td>2642</td>\n",
              "      <td>2783</td>\n",
              "      <td>2642</td>\n",
              "      <td>2642</td>\n",
              "      <td>2119037</td>\n",
              "      <td>-0.119040</td>\n",
              "      <td>2000</td>\n",
              "      <td>12</td>\n",
              "      <td>1</td>\n",
              "    </tr>\n",
              "    <tr>\n",
              "      <th>2000-12-04</th>\n",
              "      <td>2625</td>\n",
              "      <td>2752</td>\n",
              "      <td>2329</td>\n",
              "      <td>2329</td>\n",
              "      <td>1494315</td>\n",
              "      <td>-0.118471</td>\n",
              "      <td>2000</td>\n",
              "      <td>12</td>\n",
              "      <td>4</td>\n",
              "    </tr>\n",
              "  </tbody>\n",
              "</table>\n",
              "</div>\n",
              "      <button class=\"colab-df-convert\" onclick=\"convertToInteractive('df-2ac156c1-3552-4e30-a6da-64a28d4e9765')\"\n",
              "              title=\"Convert this dataframe to an interactive table.\"\n",
              "              style=\"display:none;\">\n",
              "        \n",
              "  <svg xmlns=\"http://www.w3.org/2000/svg\" height=\"24px\"viewBox=\"0 0 24 24\"\n",
              "       width=\"24px\">\n",
              "    <path d=\"M0 0h24v24H0V0z\" fill=\"none\"/>\n",
              "    <path d=\"M18.56 5.44l.94 2.06.94-2.06 2.06-.94-2.06-.94-.94-2.06-.94 2.06-2.06.94zm-11 1L8.5 8.5l.94-2.06 2.06-.94-2.06-.94L8.5 2.5l-.94 2.06-2.06.94zm10 10l.94 2.06.94-2.06 2.06-.94-2.06-.94-.94-2.06-.94 2.06-2.06.94z\"/><path d=\"M17.41 7.96l-1.37-1.37c-.4-.4-.92-.59-1.43-.59-.52 0-1.04.2-1.43.59L10.3 9.45l-7.72 7.72c-.78.78-.78 2.05 0 2.83L4 21.41c.39.39.9.59 1.41.59.51 0 1.02-.2 1.41-.59l7.78-7.78 2.81-2.81c.8-.78.8-2.07 0-2.86zM5.41 20L4 18.59l7.72-7.72 1.47 1.35L5.41 20z\"/>\n",
              "  </svg>\n",
              "      </button>\n",
              "      \n",
              "  <style>\n",
              "    .colab-df-container {\n",
              "      display:flex;\n",
              "      flex-wrap:wrap;\n",
              "      gap: 12px;\n",
              "    }\n",
              "\n",
              "    .colab-df-convert {\n",
              "      background-color: #E8F0FE;\n",
              "      border: none;\n",
              "      border-radius: 50%;\n",
              "      cursor: pointer;\n",
              "      display: none;\n",
              "      fill: #1967D2;\n",
              "      height: 32px;\n",
              "      padding: 0 0 0 0;\n",
              "      width: 32px;\n",
              "    }\n",
              "\n",
              "    .colab-df-convert:hover {\n",
              "      background-color: #E2EBFA;\n",
              "      box-shadow: 0px 1px 2px rgba(60, 64, 67, 0.3), 0px 1px 3px 1px rgba(60, 64, 67, 0.15);\n",
              "      fill: #174EA6;\n",
              "    }\n",
              "\n",
              "    [theme=dark] .colab-df-convert {\n",
              "      background-color: #3B4455;\n",
              "      fill: #D2E3FC;\n",
              "    }\n",
              "\n",
              "    [theme=dark] .colab-df-convert:hover {\n",
              "      background-color: #434B5C;\n",
              "      box-shadow: 0px 1px 3px 1px rgba(0, 0, 0, 0.15);\n",
              "      filter: drop-shadow(0px 1px 2px rgba(0, 0, 0, 0.3));\n",
              "      fill: #FFFFFF;\n",
              "    }\n",
              "  </style>\n",
              "\n",
              "      <script>\n",
              "        const buttonEl =\n",
              "          document.querySelector('#df-2ac156c1-3552-4e30-a6da-64a28d4e9765 button.colab-df-convert');\n",
              "        buttonEl.style.display =\n",
              "          google.colab.kernel.accessAllowed ? 'block' : 'none';\n",
              "\n",
              "        async function convertToInteractive(key) {\n",
              "          const element = document.querySelector('#df-2ac156c1-3552-4e30-a6da-64a28d4e9765');\n",
              "          const dataTable =\n",
              "            await google.colab.kernel.invokeFunction('convertToInteractive',\n",
              "                                                     [key], {});\n",
              "          if (!dataTable) return;\n",
              "\n",
              "          const docLinkHtml = 'Like what you see? Visit the ' +\n",
              "            '<a target=\"_blank\" href=https://colab.research.google.com/notebooks/data_table.ipynb>data table notebook</a>'\n",
              "            + ' to learn more about interactive tables.';\n",
              "          element.innerHTML = '';\n",
              "          dataTable['output_type'] = 'display_data';\n",
              "          await google.colab.output.renderOutput(dataTable, element);\n",
              "          const docLink = document.createElement('div');\n",
              "          docLink.innerHTML = docLinkHtml;\n",
              "          element.appendChild(docLink);\n",
              "        }\n",
              "      </script>\n",
              "    </div>\n",
              "  </div>\n",
              "  "
            ]
          },
          "metadata": {},
          "execution_count": 18
        }
      ]
    },
    {
      "cell_type": "code",
      "source": [
        "plt.figure(figsize=(16, 9))\n",
        "sns.lineplot(y=stock['Close'], x=stock.index)\n",
        "plt.xlabel('time')\n",
        "plt.ylabel('price')"
      ],
      "metadata": {
        "colab": {
          "base_uri": "https://localhost:8080/",
          "height": 569
        },
        "id": "DjoPuKs7_69K",
        "outputId": "6f2952b9-0661-4482-8218-456f9b625a4a"
      },
      "execution_count": 19,
      "outputs": [
        {
          "output_type": "execute_result",
          "data": {
            "text/plain": [
              "Text(0, 0.5, 'price')"
            ]
          },
          "metadata": {},
          "execution_count": 19
        },
        {
          "output_type": "stream",
          "name": "stderr",
          "text": [
            "findfont: Font family ['NanumGothic'] not found. Falling back to DejaVu Sans.\n"
          ]
        },
        {
          "output_type": "display_data",
          "data": {
            "text/plain": [
              "<Figure size 1152x648 with 1 Axes>"
            ],
            "image/png": "[encoded data removed]"
          },
          "metadata": {
            "needs_background": "light"
          }
        }
      ]
    },
    {
      "cell_type": "code",
      "source": [
        "time_steps = [['2000','2005'],\n",
        "              ['2005','2010'],\n",
        "              ['2010','2015'],\n",
        "              ['2015','2020']]\n",
        "\n",
        "fig, axes = plt.subplots(2, 2)\n",
        "fig.set_size_inches(16, 9)\n",
        "for i in range(4):\n",
        "    ax = axes[i//2, i%2]\n",
        "    df = stock.loc[(stock.index > time_steps[i][0]) & (stock.index < time_steps[i][1])]\n",
        "    sns.lineplot(y=df['Close'], x=df.index, ax=ax)\n",
        "    ax.set_title(f'{time_steps[i][0]}~{time_steps[i][1]}')\n",
        "    ax.set_xlabel('time')\n",
        "    ax.set_ylabel('price')\n",
        "plt.tight_layout()\n",
        "plt.show()"
      ],
      "metadata": {
        "colab": {
          "base_uri": "https://localhost:8080/",
          "height": 657
        },
        "id": "KvBqjS78AERI",
        "outputId": "266f8352-34e0-434e-bb1b-3a067046edbc"
      },
      "execution_count": 22,
      "outputs": [
        {
          "output_type": "display_data",
          "data": {
            "text/plain": [
              "<Figure size 1152x648 with 4 Axes>"
            ],
            "image/png": "[encoded data removed]"
          },
          "metadata": {
            "needs_background": "light"
          }
        }
      ]
    },
    {
      "cell_type": "code",
      "source": [
        "from sklearn.preprocessing import MinMaxScaler\n",
        "\n",
        "scaler = MinMaxScaler()\n",
        "\n",
        "scale_cols = ['Open', 'High', 'Low', 'Close', 'Volume']\n",
        "\n",
        "scaled = scaler.fit_transform(stock[scale_cols])\n",
        "scaled"
      ],
      "metadata": {
        "colab": {
          "base_uri": "https://localhost:8080/"
        },
        "id": "4BLhjSW2Anht",
        "outputId": "bfa69d6c-bd63-4465-8682-aa16935484d4"
      },
      "execution_count": 24,
      "outputs": [
        {
          "output_type": "execute_result",
          "data": {
            "text/plain": [
              "array([[7.81250000e-03, 6.36168117e-03, 8.03027190e-03, 7.10143733e-03,\n",
              "        4.61996425e-03],\n",
              "       [9.47827825e-03, 7.86918856e-03, 9.74248339e-03, 8.75037788e-03,\n",
              "        2.12597656e-04],\n",
              "       [1.13383973e-02, 9.55257181e-03, 9.31443052e-03, 9.76722456e-03,\n",
              "        1.00000000e+00],\n",
              "       ...,\n",
              "       [2.88140769e-01, 2.65582601e-01, 2.90465265e-01, 2.82397560e-01,\n",
              "        1.38845995e-02],\n",
              "       [2.87030251e-01, 2.62567587e-01, 2.91606739e-01, 2.83496853e-01,\n",
              "        1.08012361e-02],\n",
              "       [2.80922397e-01, 2.71110128e-01, 2.88753053e-01, 2.84596147e-01,\n",
              "        5.74661229e-02]])"
            ]
          },
          "metadata": {},
          "execution_count": 24
        }
      ]
    },
    {
      "cell_type": "code",
      "source": [
        "df = pd.DataFrame(scaled, columns=scale_cols)\n",
        "df.info()"
      ],
      "metadata": {
        "colab": {
          "base_uri": "https://localhost:8080/"
        },
        "id": "xE10DuwTArq7",
        "outputId": "8df79b16-534d-413a-b380-d959863b94e0"
      },
      "execution_count": 25,
      "outputs": [
        {
          "output_type": "stream",
          "name": "stdout",
          "text": [
            "<class 'pandas.core.frame.DataFrame'>\n",
            "RangeIndex: 5338 entries, 0 to 5337\n",
            "Data columns (total 5 columns):\n",
            " #   Column  Non-Null Count  Dtype  \n",
            "---  ------  --------------  -----  \n",
            " 0   Open    5338 non-null   float64\n",
            " 1   High    5338 non-null   float64\n",
            " 2   Low     5338 non-null   float64\n",
            " 3   Close   5338 non-null   float64\n",
            " 4   Volume  5338 non-null   float64\n",
            "dtypes: float64(5)\n",
            "memory usage: 208.6 KB\n"
          ]
        }
      ]
    },
    {
      "cell_type": "code",
      "source": [
        "from sklearn.model_selection import train_test_split"
      ],
      "metadata": {
        "id": "wcUsOwUxAvrF"
      },
      "execution_count": 26,
      "outputs": []
    },
    {
      "cell_type": "code",
      "source": [
        "x_train, x_test, y_train, y_test = train_test_split(df.drop('Close', 1), df['Close'], test_size=0.2, random_state=0, shuffle=False)"
      ],
      "metadata": {
        "id": "IqsZ91F6A0Fu"
      },
      "execution_count": 27,
      "outputs": []
    },
    {
      "cell_type": "code",
      "source": [
        "x_train.shape, y_train.shape"
      ],
      "metadata": {
        "colab": {
          "base_uri": "https://localhost:8080/"
        },
        "id": "pM-2ZW4qA1lv",
        "outputId": "cd0d4fa1-811e-4d25-c282-482606704118"
      },
      "execution_count": 28,
      "outputs": [
        {
          "output_type": "execute_result",
          "data": {
            "text/plain": [
              "((4270, 4), (4270,))"
            ]
          },
          "metadata": {},
          "execution_count": 28
        }
      ]
    },
    {
      "cell_type": "code",
      "source": [
        "x_test.shape, y_test.shape"
      ],
      "metadata": {
        "colab": {
          "base_uri": "https://localhost:8080/"
        },
        "id": "A2UHVZTlA3FP",
        "outputId": "d719c25a-d9c2-4201-9543-2e4bf569ec5e"
      },
      "execution_count": 29,
      "outputs": [
        {
          "output_type": "execute_result",
          "data": {
            "text/plain": [
              "((1068, 4), (1068,))"
            ]
          },
          "metadata": {},
          "execution_count": 29
        }
      ]
    },
    {
      "cell_type": "code",
      "source": [
        "x_train"
      ],
      "metadata": {
        "colab": {
          "base_uri": "https://localhost:8080/",
          "height": 424
        },
        "id": "MHgV8Y1eA3Hq",
        "outputId": "fdd4c4e1-4e8c-47a3-bc1c-b8bfbc3fedca"
      },
      "execution_count": 30,
      "outputs": [
        {
          "output_type": "execute_result",
          "data": {
            "text/plain": [
              "          Open      High       Low    Volume\n",
              "0     0.007812  0.006362  0.008030  0.004620\n",
              "1     0.009478  0.007869  0.009742  0.000213\n",
              "2     0.011338  0.009553  0.009314  1.000000\n",
              "3     0.008523  0.007713  0.008761  0.421606\n",
              "4     0.008429  0.007558  0.006974  0.297131\n",
              "...        ...       ...       ...       ...\n",
              "4265  0.544387  0.501769  0.553986  0.007766\n",
              "4266  0.552522  0.499317  0.545625  0.020253\n",
              "4267  0.547097  0.516497  0.562347  0.009634\n",
              "4268  0.571506  0.518949  0.567923  0.008226\n",
              "4269  0.560657  0.509135  0.573500  0.005896\n",
              "\n",
              "[4270 rows x 4 columns]"
            ],
            "text/html": [
              "\n",
              "  <div id=\"df-cd168d42-f632-493e-8097-7ddd44abadea\">\n",
              "    <div class=\"colab-df-container\">\n",
              "      <div>\n",
              "<style scoped>\n",
              "    .dataframe tbody tr th:only-of-type {\n",
              "        vertical-align: middle;\n",
              "    }\n",
              "\n",
              "    .dataframe tbody tr th {\n",
              "        vertical-align: top;\n",
              "    }\n",
              "\n",
              "    .dataframe thead th {\n",
              "        text-align: right;\n",
              "    }\n",
              "</style>\n",
              "<table border=\"1\" class=\"dataframe\">\n",
              "  <thead>\n",
              "    <tr style=\"text-align: right;\">\n",
              "      <th></th>\n",
              "      <th>Open</th>\n",
              "      <th>High</th>\n",
              "      <th>Low</th>\n",
              "      <th>Volume</th>\n",
              "    </tr>\n",
              "  </thead>\n",
              "  <tbody>\n",
              "    <tr>\n",
              "      <th>0</th>\n",
              "      <td>0.007812</td>\n",
              "      <td>0.006362</td>\n",
              "      <td>0.008030</td>\n",
              "      <td>0.004620</td>\n",
              "    </tr>\n",
              "    <tr>\n",
              "      <th>1</th>\n",
              "      <td>0.009478</td>\n",
              "      <td>0.007869</td>\n",
              "      <td>0.009742</td>\n",
              "      <td>0.000213</td>\n",
              "    </tr>\n",
              "    <tr>\n",
              "      <th>2</th>\n",
              "      <td>0.011338</td>\n",
              "      <td>0.009553</td>\n",
              "      <td>0.009314</td>\n",
              "      <td>1.000000</td>\n",
              "    </tr>\n",
              "    <tr>\n",
              "      <th>3</th>\n",
              "      <td>0.008523</td>\n",
              "      <td>0.007713</td>\n",
              "      <td>0.008761</td>\n",
              "      <td>0.421606</td>\n",
              "    </tr>\n",
              "    <tr>\n",
              "      <th>4</th>\n",
              "      <td>0.008429</td>\n",
              "      <td>0.007558</td>\n",
              "      <td>0.006974</td>\n",
              "      <td>0.297131</td>\n",
              "    </tr>\n",
              "    <tr>\n",
              "      <th>...</th>\n",
              "      <td>...</td>\n",
              "      <td>...</td>\n",
              "      <td>...</td>\n",
              "      <td>...</td>\n",
              "    </tr>\n",
              "    <tr>\n",
              "      <th>4265</th>\n",
              "      <td>0.544387</td>\n",
              "      <td>0.501769</td>\n",
              "      <td>0.553986</td>\n",
              "      <td>0.007766</td>\n",
              "    </tr>\n",
              "    <tr>\n",
              "      <th>4266</th>\n",
              "      <td>0.552522</td>\n",
              "      <td>0.499317</td>\n",
              "      <td>0.545625</td>\n",
              "      <td>0.020253</td>\n",
              "    </tr>\n",
              "    <tr>\n",
              "      <th>4267</th>\n",
              "      <td>0.547097</td>\n",
              "      <td>0.516497</td>\n",
              "      <td>0.562347</td>\n",
              "      <td>0.009634</td>\n",
              "    </tr>\n",
              "    <tr>\n",
              "      <th>4268</th>\n",
              "      <td>0.571506</td>\n",
              "      <td>0.518949</td>\n",
              "      <td>0.567923</td>\n",
              "      <td>0.008226</td>\n",
              "    </tr>\n",
              "    <tr>\n",
              "      <th>4269</th>\n",
              "      <td>0.560657</td>\n",
              "      <td>0.509135</td>\n",
              "      <td>0.573500</td>\n",
              "      <td>0.005896</td>\n",
              "    </tr>\n",
              "  </tbody>\n",
              "</table>\n",
              "<p>4270 rows × 4 columns</p>\n",
              "</div>\n",
              "      <button class=\"colab-df-convert\" onclick=\"convertToInteractive('df-cd168d42-f632-493e-8097-7ddd44abadea')\"\n",
              "              title=\"Convert this dataframe to an interactive table.\"\n",
              "              style=\"display:none;\">\n",
              "        \n",
              "  <svg xmlns=\"http://www.w3.org/2000/svg\" height=\"24px\"viewBox=\"0 0 24 24\"\n",
              "       width=\"24px\">\n",
              "    <path d=\"M0 0h24v24H0V0z\" fill=\"none\"/>\n",
              "    <path d=\"M18.56 5.44l.94 2.06.94-2.06 2.06-.94-2.06-.94-.94-2.06-.94 2.06-2.06.94zm-11 1L8.5 8.5l.94-2.06 2.06-.94-2.06-.94L8.5 2.5l-.94 2.06-2.06.94zm10 10l.94 2.06.94-2.06 2.06-.94-2.06-.94-.94-2.06-.94 2.06-2.06.94z\"/><path d=\"M17.41 7.96l-1.37-1.37c-.4-.4-.92-.59-1.43-.59-.52 0-1.04.2-1.43.59L10.3 9.45l-7.72 7.72c-.78.78-.78 2.05 0 2.83L4 21.41c.39.39.9.59 1.41.59.51 0 1.02-.2 1.41-.59l7.78-7.78 2.81-2.81c.8-.78.8-2.07 0-2.86zM5.41 20L4 18.59l7.72-7.72 1.47 1.35L5.41 20z\"/>\n",
              "  </svg>\n",
              "      </button>\n",
              "      \n",
              "  <style>\n",
              "    .colab-df-container {\n",
              "      display:flex;\n",
              "      flex-wrap:wrap;\n",
              "      gap: 12px;\n",
              "    }\n",
              "\n",
              "    .colab-df-convert {\n",
              "      background-color: #E8F0FE;\n",
              "      border: none;\n",
              "      border-radius: 50%;\n",
              "      cursor: pointer;\n",
              "      display: none;\n",
              "      fill: #1967D2;\n",
              "      height: 32px;\n",
              "      padding: 0 0 0 0;\n",
              "      width: 32px;\n",
              "    }\n",
              "\n",
              "    .colab-df-convert:hover {\n",
              "      background-color: #E2EBFA;\n",
              "      box-shadow: 0px 1px 2px rgba(60, 64, 67, 0.3), 0px 1px 3px 1px rgba(60, 64, 67, 0.15);\n",
              "      fill: #174EA6;\n",
              "    }\n",
              "\n",
              "    [theme=dark] .colab-df-convert {\n",
              "      background-color: #3B4455;\n",
              "      fill: #D2E3FC;\n",
              "    }\n",
              "\n",
              "    [theme=dark] .colab-df-convert:hover {\n",
              "      background-color: #434B5C;\n",
              "      box-shadow: 0px 1px 3px 1px rgba(0, 0, 0, 0.15);\n",
              "      filter: drop-shadow(0px 1px 2px rgba(0, 0, 0, 0.3));\n",
              "      fill: #FFFFFF;\n",
              "    }\n",
              "  </style>\n",
              "\n",
              "      <script>\n",
              "        const buttonEl =\n",
              "          document.querySelector('#df-cd168d42-f632-493e-8097-7ddd44abadea button.colab-df-convert');\n",
              "        buttonEl.style.display =\n",
              "          google.colab.kernel.accessAllowed ? 'block' : 'none';\n",
              "\n",
              "        async function convertToInteractive(key) {\n",
              "          const element = document.querySelector('#df-cd168d42-f632-493e-8097-7ddd44abadea');\n",
              "          const dataTable =\n",
              "            await google.colab.kernel.invokeFunction('convertToInteractive',\n",
              "                                                     [key], {});\n",
              "          if (!dataTable) return;\n",
              "\n",
              "          const docLinkHtml = 'Like what you see? Visit the ' +\n",
              "            '<a target=\"_blank\" href=https://colab.research.google.com/notebooks/data_table.ipynb>data table notebook</a>'\n",
              "            + ' to learn more about interactive tables.';\n",
              "          element.innerHTML = '';\n",
              "          dataTable['output_type'] = 'display_data';\n",
              "          await google.colab.output.renderOutput(dataTable, element);\n",
              "          const docLink = document.createElement('div');\n",
              "          docLink.innerHTML = docLinkHtml;\n",
              "          element.appendChild(docLink);\n",
              "        }\n",
              "      </script>\n",
              "    </div>\n",
              "  </div>\n",
              "  "
            ]
          },
          "metadata": {},
          "execution_count": 30
        }
      ]
    },
    {
      "cell_type": "code",
      "source": [
        "import tensorflow as tf"
      ],
      "metadata": {
        "id": "-1Z9CV6BA3LD"
      },
      "execution_count": 31,
      "outputs": []
    },
    {
      "cell_type": "code",
      "source": [
        "def windowed_dataset(series, window_size, batch_size, shuffle):\n",
        "    series = tf.expand_dims(series, axis=-1)\n",
        "    ds = tf.data.Dataset.from_tensor_slices(series)\n",
        "    ds = ds.window(window_size + 1, shift=1, drop_remainder=True)\n",
        "    ds = ds.flat_map(lambda w: w.batch(window_size + 1))\n",
        "    if shuffle:\n",
        "        ds = ds.shuffle(1000)\n",
        "    ds = ds.map(lambda w: (w[:-1], w[-1]))\n",
        "    return ds.batch(batch_size).prefetch(1)"
      ],
      "metadata": {
        "id": "ePHr_WAnA3NK"
      },
      "execution_count": 32,
      "outputs": []
    },
    {
      "cell_type": "code",
      "source": [
        "WINDOW_SIZE=20\n",
        "BATCH_SIZE=32"
      ],
      "metadata": {
        "id": "ds__PptpA3QP"
      },
      "execution_count": 33,
      "outputs": []
    },
    {
      "cell_type": "code",
      "source": [
        "train_data = windowed_dataset(y_train, WINDOW_SIZE, BATCH_SIZE, True)\n",
        "test_data = windowed_dataset(y_test, WINDOW_SIZE, BATCH_SIZE, False)"
      ],
      "metadata": {
        "id": "_DbLIC7KA3SR"
      },
      "execution_count": 34,
      "outputs": []
    },
    {
      "cell_type": "code",
      "source": [
        "for data in train_data.take(1):\n",
        "    print(f'데이터셋(X) 구성(batch_size, window_size, feature갯수): {data[0].shape}')\n",
        "    print(f'데이터셋(Y) 구성(batch_size, window_size, feature갯수): {data[1].shape}')"
      ],
      "metadata": {
        "colab": {
          "base_uri": "https://localhost:8080/"
        },
        "id": "YpCMPRSdA3VU",
        "outputId": "8e5905ef-058a-407c-a5b2-0b1031f45153"
      },
      "execution_count": 35,
      "outputs": [
        {
          "output_type": "stream",
          "name": "stdout",
          "text": [
            "데이터셋(X) 구성(batch_size, window_size, feature갯수): (32, 20, 1)\n",
            "데이터셋(Y) 구성(batch_size, window_size, feature갯수): (32, 1)\n"
          ]
        }
      ]
    },
    {
      "cell_type": "code",
      "source": [
        "from tensorflow.keras.models import Sequential\n",
        "from tensorflow.keras.layers import Dense, LSTM, Conv1D, Lambda\n",
        "from tensorflow.keras.losses import Huber\n",
        "from tensorflow.keras.optimizers import Adam\n",
        "from tensorflow.keras.callbacks import EarlyStopping, ModelCheckpoint\n",
        "\n",
        "\n",
        "model = Sequential([\n",
        "    Conv1D(filters=32, kernel_size=5,\n",
        "           padding=\"causal\",\n",
        "           activation=\"relu\",\n",
        "           input_shape=[WINDOW_SIZE, 1]),\n",
        "    LSTM(16, activation='tanh'),\n",
        "    Dense(16, activation=\"relu\"),\n",
        "    Dense(1),\n",
        "])"
      ],
      "metadata": {
        "id": "db7HazhsA3br"
      },
      "execution_count": 36,
      "outputs": []
    },
    {
      "cell_type": "code",
      "source": [
        "loss = Huber()\n",
        "optimizer = Adam(0.0005)\n",
        "model.compile(loss=Huber(), optimizer=optimizer, metrics=['mse'])"
      ],
      "metadata": {
        "id": "65WTuaFcBH8Q"
      },
      "execution_count": 37,
      "outputs": []
    },
    {
      "cell_type": "code",
      "source": [
        "earlystopping = EarlyStopping(monitor='val_loss', patience=10)\n",
        "\n",
        "filename = os.path.join('tmp', 'ckeckpointer.ckpt')\n",
        "checkpoint = ModelCheckpoint(filename, \n",
        "                             save_weights_only=True, \n",
        "                             save_best_only=True, \n",
        "                             monitor='val_loss', \n",
        "                             verbose=1)"
      ],
      "metadata": {
        "id": "TXF-stl1BItQ"
      },
      "execution_count": 38,
      "outputs": []
    },
    {
      "cell_type": "code",
      "source": [
        "history = model.fit(train_data, \n",
        "                    validation_data=(test_data), \n",
        "                    epochs=50, \n",
        "                    callbacks=[checkpoint, earlystopping])"
      ],
      "metadata": {
        "colab": {
          "base_uri": "https://localhost:8080/"
        },
        "id": "lWgjlCoeBIvX",
        "outputId": "5c1858ae-89ac-4d6f-94ee-4887c9710308"
      },
      "execution_count": 39,
      "outputs": [
        {
          "output_type": "stream",
          "name": "stdout",
          "text": [
            "Epoch 1/50\n",
            "    132/Unknown - 10s 25ms/step - loss: 6.0406e-04 - mse: 0.0012\n",
            "Epoch 1: val_loss improved from inf to 0.00028, saving model to tmp/ckeckpointer.ckpt\n",
            "133/133 [==============================] - 14s 54ms/step - loss: 6.0111e-04 - mse: 0.0012 - val_loss: 2.7722e-04 - val_mse: 5.5444e-04\n",
            "Epoch 2/50\n",
            "130/133 [============================>.] - ETA: 0s - loss: 1.6841e-04 - mse: 3.3683e-04\n",
            "Epoch 2: val_loss improved from 0.00028 to 0.00018, saving model to tmp/ckeckpointer.ckpt\n",
            "133/133 [==============================] - 4s 28ms/step - loss: 1.7132e-04 - mse: 3.4265e-04 - val_loss: 1.8205e-04 - val_mse: 3.6410e-04\n",
            "Epoch 3/50\n",
            "132/133 [============================>.] - ETA: 0s - loss: 1.4864e-04 - mse: 2.9729e-04\n",
            "Epoch 3: val_loss improved from 0.00018 to 0.00015, saving model to tmp/ckeckpointer.ckpt\n",
            "133/133 [==============================] - 5s 32ms/step - loss: 1.4966e-04 - mse: 2.9932e-04 - val_loss: 1.5316e-04 - val_mse: 3.0633e-04\n",
            "Epoch 4/50\n",
            "131/133 [============================>.] - ETA: 0s - loss: 1.4325e-04 - mse: 2.8650e-04\n",
            "Epoch 4: val_loss did not improve from 0.00015\n",
            "133/133 [==============================] - 3s 23ms/step - loss: 1.4509e-04 - mse: 2.9018e-04 - val_loss: 1.7380e-04 - val_mse: 3.4760e-04\n",
            "Epoch 5/50\n",
            "131/133 [============================>.] - ETA: 0s - loss: 1.2890e-04 - mse: 2.5780e-04\n",
            "Epoch 5: val_loss improved from 0.00015 to 0.00015, saving model to tmp/ckeckpointer.ckpt\n",
            "133/133 [==============================] - 4s 26ms/step - loss: 1.3265e-04 - mse: 2.6531e-04 - val_loss: 1.4721e-04 - val_mse: 2.9442e-04\n",
            "Epoch 6/50\n",
            "131/133 [============================>.] - ETA: 0s - loss: 1.2721e-04 - mse: 2.5442e-04\n",
            "Epoch 6: val_loss improved from 0.00015 to 0.00014, saving model to tmp/ckeckpointer.ckpt\n",
            "133/133 [==============================] - 3s 24ms/step - loss: 1.2685e-04 - mse: 2.5370e-04 - val_loss: 1.4118e-04 - val_mse: 2.8237e-04\n",
            "Epoch 7/50\n",
            "132/133 [============================>.] - ETA: 0s - loss: 1.0936e-04 - mse: 2.1872e-04\n",
            "Epoch 7: val_loss did not improve from 0.00014\n",
            "133/133 [==============================] - 4s 32ms/step - loss: 1.0965e-04 - mse: 2.1930e-04 - val_loss: 1.8388e-04 - val_mse: 3.6777e-04\n",
            "Epoch 8/50\n",
            "132/133 [============================>.] - ETA: 0s - loss: 1.1201e-04 - mse: 2.2403e-04\n",
            "Epoch 8: val_loss did not improve from 0.00014\n",
            "133/133 [==============================] - 2s 17ms/step - loss: 1.1207e-04 - mse: 2.2415e-04 - val_loss: 1.5072e-04 - val_mse: 3.0145e-04\n",
            "Epoch 9/50\n",
            "133/133 [==============================] - ETA: 0s - loss: 1.1902e-04 - mse: 2.3805e-04\n",
            "Epoch 9: val_loss did not improve from 0.00014\n",
            "133/133 [==============================] - 3s 22ms/step - loss: 1.1902e-04 - mse: 2.3805e-04 - val_loss: 1.6727e-04 - val_mse: 3.3454e-04\n",
            "Epoch 10/50\n",
            "133/133 [==============================] - ETA: 0s - loss: 1.0011e-04 - mse: 2.0022e-04\n",
            "Epoch 10: val_loss did not improve from 0.00014\n",
            "133/133 [==============================] - 5s 32ms/step - loss: 1.0011e-04 - mse: 2.0022e-04 - val_loss: 1.6273e-04 - val_mse: 3.2547e-04\n",
            "Epoch 11/50\n",
            "131/133 [============================>.] - ETA: 0s - loss: 9.6442e-05 - mse: 1.9288e-04\n",
            "Epoch 11: val_loss improved from 0.00014 to 0.00012, saving model to tmp/ckeckpointer.ckpt\n",
            "133/133 [==============================] - 4s 26ms/step - loss: 9.7518e-05 - mse: 1.9504e-04 - val_loss: 1.2324e-04 - val_mse: 2.4648e-04\n",
            "Epoch 12/50\n",
            "131/133 [============================>.] - ETA: 0s - loss: 9.1750e-05 - mse: 1.8350e-04\n",
            "Epoch 12: val_loss improved from 0.00012 to 0.00011, saving model to tmp/ckeckpointer.ckpt\n",
            "133/133 [==============================] - 4s 27ms/step - loss: 9.5382e-05 - mse: 1.9076e-04 - val_loss: 1.1144e-04 - val_mse: 2.2288e-04\n",
            "Epoch 13/50\n",
            "132/133 [============================>.] - ETA: 0s - loss: 8.9486e-05 - mse: 1.7897e-04\n",
            "Epoch 13: val_loss improved from 0.00011 to 0.00011, saving model to tmp/ckeckpointer.ckpt\n",
            "133/133 [==============================] - 4s 32ms/step - loss: 8.9379e-05 - mse: 1.7876e-04 - val_loss: 1.0810e-04 - val_mse: 2.1619e-04\n",
            "Epoch 14/50\n",
            "130/133 [============================>.] - ETA: 0s - loss: 8.9303e-05 - mse: 1.7861e-04\n",
            "Epoch 14: val_loss improved from 0.00011 to 0.00010, saving model to tmp/ckeckpointer.ckpt\n",
            "133/133 [==============================] - 3s 17ms/step - loss: 8.9280e-05 - mse: 1.7856e-04 - val_loss: 1.0228e-04 - val_mse: 2.0455e-04\n",
            "Epoch 15/50\n",
            "132/133 [============================>.] - ETA: 0s - loss: 8.3036e-05 - mse: 1.6607e-04\n",
            "Epoch 15: val_loss did not improve from 0.00010\n",
            "133/133 [==============================] - 3s 18ms/step - loss: 8.2872e-05 - mse: 1.6574e-04 - val_loss: 1.0352e-04 - val_mse: 2.0705e-04\n",
            "Epoch 16/50\n",
            "133/133 [==============================] - ETA: 0s - loss: 7.8046e-05 - mse: 1.5609e-04\n",
            "Epoch 16: val_loss improved from 0.00010 to 0.00010, saving model to tmp/ckeckpointer.ckpt\n",
            "133/133 [==============================] - 2s 17ms/step - loss: 7.8046e-05 - mse: 1.5609e-04 - val_loss: 1.0145e-04 - val_mse: 2.0290e-04\n",
            "Epoch 17/50\n",
            "132/133 [============================>.] - ETA: 0s - loss: 9.2406e-05 - mse: 1.8481e-04\n",
            "Epoch 17: val_loss improved from 0.00010 to 0.00009, saving model to tmp/ckeckpointer.ckpt\n",
            "133/133 [==============================] - 2s 17ms/step - loss: 9.3251e-05 - mse: 1.8650e-04 - val_loss: 8.7606e-05 - val_mse: 1.7521e-04\n",
            "Epoch 18/50\n",
            "130/133 [============================>.] - ETA: 0s - loss: 8.1565e-05 - mse: 1.6313e-04\n",
            "Epoch 18: val_loss did not improve from 0.00009\n",
            "133/133 [==============================] - 3s 19ms/step - loss: 8.2588e-05 - mse: 1.6518e-04 - val_loss: 1.0637e-04 - val_mse: 2.1274e-04\n",
            "Epoch 19/50\n",
            "129/133 [============================>.] - ETA: 0s - loss: 7.5998e-05 - mse: 1.5200e-04\n",
            "Epoch 19: val_loss did not improve from 0.00009\n",
            "133/133 [==============================] - 2s 16ms/step - loss: 7.6984e-05 - mse: 1.5397e-04 - val_loss: 1.0126e-04 - val_mse: 2.0251e-04\n",
            "Epoch 20/50\n",
            "133/133 [==============================] - ETA: 0s - loss: 7.1868e-05 - mse: 1.4374e-04\n",
            "Epoch 20: val_loss improved from 0.00009 to 0.00008, saving model to tmp/ckeckpointer.ckpt\n",
            "133/133 [==============================] - 2s 15ms/step - loss: 7.1868e-05 - mse: 1.4374e-04 - val_loss: 8.2450e-05 - val_mse: 1.6490e-04\n",
            "Epoch 21/50\n",
            "130/133 [============================>.] - ETA: 0s - loss: 8.6034e-05 - mse: 1.7207e-04\n",
            "Epoch 21: val_loss did not improve from 0.00008\n",
            "133/133 [==============================] - 2s 17ms/step - loss: 8.6309e-05 - mse: 1.7262e-04 - val_loss: 1.0071e-04 - val_mse: 2.0142e-04\n",
            "Epoch 22/50\n",
            "130/133 [============================>.] - ETA: 0s - loss: 7.2248e-05 - mse: 1.4450e-04\n",
            "Epoch 22: val_loss did not improve from 0.00008\n",
            "133/133 [==============================] - 2s 16ms/step - loss: 7.3409e-05 - mse: 1.4682e-04 - val_loss: 1.1415e-04 - val_mse: 2.2829e-04\n",
            "Epoch 23/50\n",
            "131/133 [============================>.] - ETA: 0s - loss: 7.8010e-05 - mse: 1.5602e-04\n",
            "Epoch 23: val_loss did not improve from 0.00008\n",
            "133/133 [==============================] - 2s 18ms/step - loss: 7.8427e-05 - mse: 1.5685e-04 - val_loss: 1.1743e-04 - val_mse: 2.3486e-04\n",
            "Epoch 24/50\n",
            "133/133 [==============================] - ETA: 0s - loss: 6.7810e-05 - mse: 1.3562e-04\n",
            "Epoch 24: val_loss did not improve from 0.00008\n",
            "133/133 [==============================] - 2s 16ms/step - loss: 6.7810e-05 - mse: 1.3562e-04 - val_loss: 8.5468e-05 - val_mse: 1.7094e-04\n",
            "Epoch 25/50\n",
            "131/133 [============================>.] - ETA: 0s - loss: 7.2089e-05 - mse: 1.4418e-04\n",
            "Epoch 25: val_loss did not improve from 0.00008\n",
            "133/133 [==============================] - 2s 15ms/step - loss: 7.2336e-05 - mse: 1.4467e-04 - val_loss: 8.4777e-05 - val_mse: 1.6955e-04\n",
            "Epoch 26/50\n",
            "131/133 [============================>.] - ETA: 0s - loss: 6.8900e-05 - mse: 1.3780e-04\n",
            "Epoch 26: val_loss improved from 0.00008 to 0.00008, saving model to tmp/ckeckpointer.ckpt\n",
            "133/133 [==============================] - 2s 18ms/step - loss: 6.9057e-05 - mse: 1.3811e-04 - val_loss: 7.5866e-05 - val_mse: 1.5173e-04\n",
            "Epoch 27/50\n",
            "130/133 [============================>.] - ETA: 0s - loss: 6.4234e-05 - mse: 1.2847e-04\n",
            "Epoch 27: val_loss did not improve from 0.00008\n",
            "133/133 [==============================] - 3s 19ms/step - loss: 6.4917e-05 - mse: 1.2983e-04 - val_loss: 9.2160e-05 - val_mse: 1.8432e-04\n",
            "Epoch 28/50\n",
            "133/133 [==============================] - ETA: 0s - loss: 6.9802e-05 - mse: 1.3960e-04\n",
            "Epoch 28: val_loss did not improve from 0.00008\n",
            "133/133 [==============================] - 2s 17ms/step - loss: 6.9802e-05 - mse: 1.3960e-04 - val_loss: 1.0051e-04 - val_mse: 2.0102e-04\n",
            "Epoch 29/50\n",
            "131/133 [============================>.] - ETA: 0s - loss: 7.4371e-05 - mse: 1.4874e-04\n",
            "Epoch 29: val_loss did not improve from 0.00008\n",
            "133/133 [==============================] - 2s 17ms/step - loss: 7.4789e-05 - mse: 1.4958e-04 - val_loss: 9.0232e-05 - val_mse: 1.8046e-04\n",
            "Epoch 30/50\n",
            "129/133 [============================>.] - ETA: 0s - loss: 6.3887e-05 - mse: 1.2777e-04\n",
            "Epoch 30: val_loss did not improve from 0.00008\n",
            "133/133 [==============================] - 2s 16ms/step - loss: 6.5420e-05 - mse: 1.3084e-04 - val_loss: 8.1530e-05 - val_mse: 1.6306e-04\n",
            "Epoch 31/50\n",
            "130/133 [============================>.] - ETA: 0s - loss: 6.3663e-05 - mse: 1.2733e-04\n",
            "Epoch 31: val_loss improved from 0.00008 to 0.00007, saving model to tmp/ckeckpointer.ckpt\n",
            "133/133 [==============================] - 2s 16ms/step - loss: 6.3636e-05 - mse: 1.2727e-04 - val_loss: 6.8506e-05 - val_mse: 1.3701e-04\n",
            "Epoch 32/50\n",
            "133/133 [==============================] - ETA: 0s - loss: 6.3125e-05 - mse: 1.2625e-04\n",
            "Epoch 32: val_loss improved from 0.00007 to 0.00007, saving model to tmp/ckeckpointer.ckpt\n",
            "133/133 [==============================] - 3s 18ms/step - loss: 6.3125e-05 - mse: 1.2625e-04 - val_loss: 6.7615e-05 - val_mse: 1.3523e-04\n",
            "Epoch 33/50\n",
            "129/133 [============================>.] - ETA: 0s - loss: 6.2795e-05 - mse: 1.2559e-04\n",
            "Epoch 33: val_loss did not improve from 0.00007\n",
            "133/133 [==============================] - 3s 19ms/step - loss: 6.3315e-05 - mse: 1.2663e-04 - val_loss: 7.4728e-05 - val_mse: 1.4946e-04\n",
            "Epoch 34/50\n",
            "132/133 [============================>.] - ETA: 0s - loss: 5.9523e-05 - mse: 1.1905e-04\n",
            "Epoch 34: val_loss improved from 0.00007 to 0.00007, saving model to tmp/ckeckpointer.ckpt\n",
            "133/133 [==============================] - 5s 33ms/step - loss: 5.9669e-05 - mse: 1.1934e-04 - val_loss: 6.6568e-05 - val_mse: 1.3314e-04\n",
            "Epoch 35/50\n",
            "132/133 [============================>.] - ETA: 0s - loss: 6.9359e-05 - mse: 1.3872e-04\n",
            "Epoch 35: val_loss did not improve from 0.00007\n",
            "133/133 [==============================] - 2s 17ms/step - loss: 6.9430e-05 - mse: 1.3886e-04 - val_loss: 1.0082e-04 - val_mse: 2.0164e-04\n",
            "Epoch 36/50\n",
            "131/133 [============================>.] - ETA: 0s - loss: 5.6796e-05 - mse: 1.1359e-04\n",
            "Epoch 36: val_loss improved from 0.00007 to 0.00006, saving model to tmp/ckeckpointer.ckpt\n",
            "133/133 [==============================] - 3s 19ms/step - loss: 5.7615e-05 - mse: 1.1523e-04 - val_loss: 6.3745e-05 - val_mse: 1.2749e-04\n",
            "Epoch 37/50\n",
            "129/133 [============================>.] - ETA: 0s - loss: 6.4044e-05 - mse: 1.2809e-04\n",
            "Epoch 37: val_loss did not improve from 0.00006\n",
            "133/133 [==============================] - 2s 16ms/step - loss: 6.5934e-05 - mse: 1.3187e-04 - val_loss: 6.6423e-05 - val_mse: 1.3285e-04\n",
            "Epoch 38/50\n",
            "131/133 [============================>.] - ETA: 0s - loss: 6.2132e-05 - mse: 1.2426e-04\n",
            "Epoch 38: val_loss did not improve from 0.00006\n",
            "133/133 [==============================] - 2s 17ms/step - loss: 6.2345e-05 - mse: 1.2469e-04 - val_loss: 7.0136e-05 - val_mse: 1.4027e-04\n",
            "Epoch 39/50\n",
            "130/133 [============================>.] - ETA: 0s - loss: 6.0322e-05 - mse: 1.2064e-04\n",
            "Epoch 39: val_loss did not improve from 0.00006\n",
            "133/133 [==============================] - 2s 17ms/step - loss: 6.0234e-05 - mse: 1.2047e-04 - val_loss: 8.4413e-05 - val_mse: 1.6883e-04\n",
            "Epoch 40/50\n",
            "133/133 [==============================] - ETA: 0s - loss: 5.9969e-05 - mse: 1.1994e-04\n",
            "Epoch 40: val_loss did not improve from 0.00006\n",
            "133/133 [==============================] - 2s 17ms/step - loss: 5.9969e-05 - mse: 1.1994e-04 - val_loss: 7.4362e-05 - val_mse: 1.4872e-04\n",
            "Epoch 41/50\n",
            "132/133 [============================>.] - ETA: 0s - loss: 5.7322e-05 - mse: 1.1464e-04\n",
            "Epoch 41: val_loss did not improve from 0.00006\n",
            "133/133 [==============================] - 2s 16ms/step - loss: 5.7363e-05 - mse: 1.1473e-04 - val_loss: 7.3469e-05 - val_mse: 1.4694e-04\n",
            "Epoch 42/50\n",
            "133/133 [==============================] - ETA: 0s - loss: 5.8101e-05 - mse: 1.1620e-04\n",
            "Epoch 42: val_loss did not improve from 0.00006\n",
            "133/133 [==============================] - 2s 18ms/step - loss: 5.8101e-05 - mse: 1.1620e-04 - val_loss: 8.8313e-05 - val_mse: 1.7663e-04\n",
            "Epoch 43/50\n",
            "130/133 [============================>.] - ETA: 0s - loss: 5.9622e-05 - mse: 1.1924e-04\n",
            "Epoch 43: val_loss improved from 0.00006 to 0.00006, saving model to tmp/ckeckpointer.ckpt\n",
            "133/133 [==============================] - 2s 17ms/step - loss: 6.1433e-05 - mse: 1.2287e-04 - val_loss: 5.8672e-05 - val_mse: 1.1734e-04\n",
            "Epoch 44/50\n",
            "132/133 [============================>.] - ETA: 0s - loss: 5.7281e-05 - mse: 1.1456e-04\n",
            "Epoch 44: val_loss did not improve from 0.00006\n",
            "133/133 [==============================] - 2s 16ms/step - loss: 5.7372e-05 - mse: 1.1474e-04 - val_loss: 6.0282e-05 - val_mse: 1.2056e-04\n",
            "Epoch 45/50\n",
            "133/133 [==============================] - ETA: 0s - loss: 5.6281e-05 - mse: 1.1256e-04\n",
            "Epoch 45: val_loss improved from 0.00006 to 0.00006, saving model to tmp/ckeckpointer.ckpt\n",
            "133/133 [==============================] - 2s 18ms/step - loss: 5.6281e-05 - mse: 1.1256e-04 - val_loss: 5.7780e-05 - val_mse: 1.1556e-04\n",
            "Epoch 46/50\n",
            "130/133 [============================>.] - ETA: 0s - loss: 5.7434e-05 - mse: 1.1487e-04\n",
            "Epoch 46: val_loss did not improve from 0.00006\n",
            "133/133 [==============================] - 2s 16ms/step - loss: 5.7516e-05 - mse: 1.1503e-04 - val_loss: 5.8118e-05 - val_mse: 1.1624e-04\n",
            "Epoch 47/50\n",
            "132/133 [============================>.] - ETA: 0s - loss: 5.1607e-05 - mse: 1.0321e-04\n",
            "Epoch 47: val_loss improved from 0.00006 to 0.00006, saving model to tmp/ckeckpointer.ckpt\n",
            "133/133 [==============================] - 2s 16ms/step - loss: 5.1777e-05 - mse: 1.0355e-04 - val_loss: 5.6585e-05 - val_mse: 1.1317e-04\n",
            "Epoch 48/50\n",
            "132/133 [============================>.] - ETA: 0s - loss: 5.3029e-05 - mse: 1.0606e-04\n",
            "Epoch 48: val_loss did not improve from 0.00006\n",
            "133/133 [==============================] - 2s 16ms/step - loss: 5.3407e-05 - mse: 1.0681e-04 - val_loss: 5.8517e-05 - val_mse: 1.1703e-04\n",
            "Epoch 49/50\n",
            "133/133 [==============================] - ETA: 0s - loss: 6.2614e-05 - mse: 1.2523e-04\n",
            "Epoch 49: val_loss did not improve from 0.00006\n",
            "133/133 [==============================] - 2s 17ms/step - loss: 6.2614e-05 - mse: 1.2523e-04 - val_loss: 5.8425e-05 - val_mse: 1.1685e-04\n",
            "Epoch 50/50\n",
            "133/133 [==============================] - ETA: 0s - loss: 5.4761e-05 - mse: 1.0952e-04\n",
            "Epoch 50: val_loss did not improve from 0.00006\n",
            "133/133 [==============================] - 2s 17ms/step - loss: 5.4761e-05 - mse: 1.0952e-04 - val_loss: 6.9675e-05 - val_mse: 1.3935e-04\n"
          ]
        }
      ]
    },
    {
      "cell_type": "code",
      "source": [
        "model.load_weights(filename)"
      ],
      "metadata": {
        "colab": {
          "base_uri": "https://localhost:8080/"
        },
        "id": "8dxh6WCYBIxw",
        "outputId": "6cfbff73-e64e-4131-932f-6b0b8e72a50c"
      },
      "execution_count": 40,
      "outputs": [
        {
          "output_type": "execute_result",
          "data": {
            "text/plain": [
              "<tensorflow.python.training.tracking.util.CheckpointLoadStatus at 0x7fba3286a910>"
            ]
          },
          "metadata": {},
          "execution_count": 40
        }
      ]
    },
    {
      "cell_type": "code",
      "source": [
        "pred = model.predict(test_data)"
      ],
      "metadata": {
        "id": "FNnwN4ryBI0X"
      },
      "execution_count": 41,
      "outputs": []
    },
    {
      "cell_type": "code",
      "source": [
        "pred.shape"
      ],
      "metadata": {
        "colab": {
          "base_uri": "https://localhost:8080/"
        },
        "id": "FGpVNC3tBVRj",
        "outputId": "12ba8a1e-8512-49fa-8a53-55d9229c9ad5"
      },
      "execution_count": 42,
      "outputs": [
        {
          "output_type": "execute_result",
          "data": {
            "text/plain": [
              "(1048, 1)"
            ]
          },
          "metadata": {},
          "execution_count": 42
        }
      ]
    },
    {
      "cell_type": "code",
      "source": [
        "plt.figure(figsize=(20, 10))\n",
        "plt.plot(np.asarray(y_test)[20:], label='actual')\n",
        "plt.plot(pred, label='prediction')\n",
        "plt.legend()\n",
        "plt.show()"
      ],
      "metadata": {
        "colab": {
          "base_uri": "https://localhost:8080/",
          "height": 592
        },
        "id": "RdT_jXvhBWpP",
        "outputId": "524f86c5-14de-4afa-b5b7-07f3f8ad6a8b"
      },
      "execution_count": 43,
      "outputs": [
        {
          "output_type": "display_data",
          "data": {
            "text/plain": [
              "<Figure size 1440x720 with 1 Axes>"
            ],
            "image/png": "[encoded data removed]"
          },
          "metadata": {
            "needs_background": "light"
          }
        }
      ]
    }
  ]
}