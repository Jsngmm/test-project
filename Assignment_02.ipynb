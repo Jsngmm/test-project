{
  "nbformat": 4,
  "nbformat_minor": 0,
  "metadata": {
    "colab": {
      "name": "Assignment 02.ipynb",
      "provenance": [],
      "collapsed_sections": [],
      "include_colab_link": true
    },
    "kernelspec": {
      "name": "python3",
      "display_name": "Python 3"
    },
    "language_info": {
      "name": "python"
    }
  },
  "cells": [
    {
      "cell_type": "markdown",
      "metadata": {
        "id": "view-in-github",
        "colab_type": "text"
      },
      "source": [
        "<a href=\"https://colab.research.google.com/github/Jsngmm/test-project/blob/main/Assignment_02.ipynb\" target=\"_parent\"><img src=\"https://colab.research.google.com/assets/colab-badge.svg\" alt=\"Open In Colab\"/></a>"
      ]
    },
    {
      "cell_type": "code",
      "execution_count": 19,
      "metadata": {
        "colab": {
          "base_uri": "https://localhost:8080/",
          "height": 0
        },
        "id": "N9YUsOry9nD0",
        "outputId": "f21904f6-5e94-4483-c3f1-283a28d3b785"
      },
      "outputs": [
        {
          "output_type": "stream",
          "name": "stdout",
          "text": [
            "김밥의 가격은? 5000\n"
          ]
        },
        {
          "output_type": "execute_result",
          "data": {
            "text/plain": [
              "dict_values([5000, 3000, 2000])"
            ]
          },
          "metadata": {},
          "execution_count": 19
        }
      ],
      "source": [
        "# 사전의 구조와 이해\n",
        "\n",
        "price = {'김밥': 5000, '어묵':3000, '떡볶이':2000}\n",
        "\n",
        "say = '김밥의 가격은?'\n",
        "print(say,price.get('김밥')) \n",
        "price.values()"
      ]
    },
    {
      "cell_type": "code",
      "source": [
        "# 리스트의 슬라이싱을 사용하여 아래를 출력하세요\n",
        "\n",
        "tp = [1,2,3,4,5,6,7]\n",
        "\n",
        "print(tp[0])\n",
        "\n",
        "print(tp[:3])\n",
        "\n",
        "print(tp[3:])\n",
        "\n",
        "print(tp[-1])\n",
        "\n",
        "print(tp[::-1])\n"
      ],
      "metadata": {
        "colab": {
          "base_uri": "https://localhost:8080/",
          "height": 0
        },
        "id": "lQCEERSl-Wba",
        "outputId": "f2f7d23b-b23f-44b2-9e14-fac373723156"
      },
      "execution_count": 20,
      "outputs": [
        {
          "output_type": "stream",
          "name": "stdout",
          "text": [
            "1\n",
            "[1, 2, 3]\n",
            "[4, 5, 6, 7]\n",
            "7\n",
            "[7, 6, 5, 4, 3, 2, 1]\n"
          ]
        }
      ]
    },
    {
      "cell_type": "code",
      "source": [
        "# 조건문\n",
        "# 점수를 입력받아 등급을 출력하세요\n",
        "# 등급표 81~100\tA / 61~80\tB / 41~60\tC / 21~40\tD / 0~20\tE\n",
        "\n",
        "score = int(input(\"점수를 입력하세요: \"))\n",
        "\n",
        "if score >= 81 and score <= 100:\n",
        "  print(\"점수는 {}점이며 등급은 A등급입니다.\".format(score))\n",
        "elif score >= 61 and score <=80:\n",
        "  print(\"점수는 {}점이며 등급은 B등급입니다.\".format(score))\n",
        "elif score >= 41 and score <=60:\n",
        "  print(\"점수는 {}점이며 등급은 C등급입니다.\".format(score))\n",
        "elif score >= 21 and score <= 40:\n",
        "  print(\"점수는 {}점이며 등급은 D등급입니다.\".format(score))\n",
        "elif score >= 0 and score <= 20:\n",
        "  print(\"점수는 {}점이며 등급은 E등급입니다.\".format(score))\n"
      ],
      "metadata": {
        "colab": {
          "base_uri": "https://localhost:8080/",
          "height": 0
        },
        "id": "YxX6NxrNCK5z",
        "outputId": "aef14b97-4051-4370-ab33-adcb3ddd67e1"
      },
      "execution_count": 21,
      "outputs": [
        {
          "output_type": "stream",
          "name": "stdout",
          "text": [
            "점수를 입력하세요: 61\n",
            "점수는 61점이며 등급은 B등급입니다.\n"
          ]
        }
      ]
    },
    {
      "cell_type": "code",
      "source": [
        "\n",
        "a = int(input('첫 번째 정수를 입력하세요: '))\n",
        "b = int(input('두 번째 정수를 입력하세요: '))\n",
        "\n",
        "def add(a,b):\n",
        "    return a+b\n",
        "print('덧셈 함수 연산:', add(a,b))\n",
        "\n",
        "def multiply(a,b):\n",
        "    return a*b\n",
        "print('곱셈 함수 연산:', multiply(a,b))\n",
        "\n",
        "def square(a,b):\n",
        "    return a**b\n",
        "print('제곱 함수 연산:', square(a,b))"
      ],
      "metadata": {
        "colab": {
          "base_uri": "https://localhost:8080/",
          "height": 0
        },
        "id": "mD9n7jRG-8qL",
        "outputId": "e7e621ba-395b-4fd3-cc06-4665cfc01590"
      },
      "execution_count": 12,
      "outputs": [
        {
          "output_type": "stream",
          "name": "stdout",
          "text": [
            "첫 번째 정수를 입력하세요: 3\n",
            "두 번째 정수를 입력하세요: 5\n",
            "덧셈 함수 연산: 8\n",
            "곱셈 함수 연산: 15\n",
            "제곱 함수 연산: 243\n"
          ]
        }
      ]
    },
    {
      "cell_type": "code",
      "source": [
        "n = int(input(\"자연수를 입력하시오: \"))\n",
        "\n",
        "def pivo(n):\n",
        "    a = [1]\n",
        "    for i in range(1,n):\n",
        "         if i == 1:\n",
        "           k = a[-1]\n",
        "           a.append(k)\n",
        "         else:\n",
        "            k = a[i-1] + a[i-2] \n",
        "            a.append(k)            \n",
        "    return a[-1]           \n",
        "\n",
        "print(pivo(10))"
      ],
      "metadata": {
        "colab": {
          "base_uri": "https://localhost:8080/",
          "height": 0
        },
        "id": "OL3QMyusC9V0",
        "outputId": "3d31a050-bd28-4a4b-cd73-2b2947327e59"
      },
      "execution_count": 8,
      "outputs": [
        {
          "output_type": "stream",
          "name": "stdout",
          "text": [
            "자연수를 입력하시오: 10\n",
            "55\n"
          ]
        }
      ]
    },
    {
      "cell_type": "code",
      "source": [
        "class Human():\n",
        "    def __init__(self, name, age, sex):\n",
        "        self.name = name\n",
        "        self.age = age\n",
        "        self.sex = sex\n",
        "    def info(self):\n",
        "        print('이름: {}\\n나이: {}\\성별: {}'.format(self.name, self.age, self.sex))\n",
        "\n",
        "def set_Human():\n",
        "    name = input(\"이름: \")\n",
        "    age = input(\"나이: \")\n",
        "    sex = input(\"성별: \")    \n",
        "\n",
        "def run():\n",
        "    set_Human()\n",
        "\n",
        "run()\n"
      ],
      "metadata": {
        "id": "nYv044w8Ae0Z",
        "colab": {
          "base_uri": "https://localhost:8080/",
          "height": 0
        },
        "outputId": "172eb21d-92f0-4d54-ac19-e99ebd50a201"
      },
      "execution_count": 13,
      "outputs": [
        {
          "name": "stdout",
          "output_type": "stream",
          "text": [
            "이름: 진성민\n",
            "나이: 23\n",
            "성별: 남자\n"
          ]
        }
      ]
    }
  ]
}